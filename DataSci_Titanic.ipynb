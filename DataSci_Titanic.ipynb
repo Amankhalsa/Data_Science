{
  "nbformat": 4,
  "nbformat_minor": 0,
  "metadata": {
    "colab": {
      "name": "DataSci_Titanic.ipynb",
      "provenance": [],
      "collapsed_sections": [],
      "toc_visible": true,
      "authorship_tag": "ABX9TyNhZ64jitg45rPbfFDuO8Fp",
      "include_colab_link": true
    },
    "kernelspec": {
      "name": "python3",
      "display_name": "Python 3"
    },
    "language_info": {
      "name": "python"
    }
  },
  "cells": [
    {
      "cell_type": "markdown",
      "metadata": {
        "id": "view-in-github",
        "colab_type": "text"
      },
      "source": [
        "<a href=\"https://colab.research.google.com/github/Amankhalsa/Data_Science/blob/master/DataSci_Titanic.ipynb\" target=\"_parent\"><img src=\"https://colab.research.google.com/assets/colab-badge.svg\" alt=\"Open In Colab\"/></a>"
      ]
    },
    {
      "cell_type": "markdown",
      "metadata": {
        "id": "ieng8jv1xAhn"
      },
      "source": [
        "# Data Sci model \n",
        "\n",
        "*   import pandas \n",
        "*   import .....\n",
        "*   import pickle \n",
        "\n"
      ]
    },
    {
      "cell_type": "code",
      "metadata": {
        "colab": {
          "base_uri": "https://localhost:8080/"
        },
        "id": "oHJDbAvUimmm",
        "outputId": "ec83f21c-1b84-4565-9e0e-bcd24aefe303"
      },
      "source": [
        "import pandas as pd\n",
        "df_train=pd.read_csv(\"train.csv\")\n",
        "df_test=pd.read_csv(\"test.csv\")\n",
        "print(df_train.shape)\n",
        "print(df_train.size)\n",
        "\n"
      ],
      "execution_count": null,
      "outputs": [
        {
          "output_type": "stream",
          "text": [
            "(891, 12)\n",
            "10692\n"
          ],
          "name": "stdout"
        }
      ]
    },
    {
      "cell_type": "code",
      "metadata": {
        "colab": {
          "base_uri": "https://localhost:8080/",
          "height": 296
        },
        "id": "tXa4W8CNj33H",
        "outputId": "bbd1b23e-565d-4528-d6a8-f9db24367fed"
      },
      "source": [
        "df_train.head(4)"
      ],
      "execution_count": null,
      "outputs": [
        {
          "output_type": "execute_result",
          "data": {
            "text/html": [
              "<div>\n",
              "<style scoped>\n",
              "    .dataframe tbody tr th:only-of-type {\n",
              "        vertical-align: middle;\n",
              "    }\n",
              "\n",
              "    .dataframe tbody tr th {\n",
              "        vertical-align: top;\n",
              "    }\n",
              "\n",
              "    .dataframe thead th {\n",
              "        text-align: right;\n",
              "    }\n",
              "</style>\n",
              "<table border=\"1\" class=\"dataframe\">\n",
              "  <thead>\n",
              "    <tr style=\"text-align: right;\">\n",
              "      <th></th>\n",
              "      <th>PassengerId</th>\n",
              "      <th>Survived</th>\n",
              "      <th>Pclass</th>\n",
              "      <th>Name</th>\n",
              "      <th>Sex</th>\n",
              "      <th>Age</th>\n",
              "      <th>SibSp</th>\n",
              "      <th>Parch</th>\n",
              "      <th>Ticket</th>\n",
              "      <th>Fare</th>\n",
              "      <th>Cabin</th>\n",
              "      <th>Embarked</th>\n",
              "    </tr>\n",
              "  </thead>\n",
              "  <tbody>\n",
              "    <tr>\n",
              "      <th>0</th>\n",
              "      <td>1</td>\n",
              "      <td>0</td>\n",
              "      <td>3</td>\n",
              "      <td>Braund, Mr. Owen Harris</td>\n",
              "      <td>male</td>\n",
              "      <td>22.0</td>\n",
              "      <td>1</td>\n",
              "      <td>0</td>\n",
              "      <td>A/5 21171</td>\n",
              "      <td>7.2500</td>\n",
              "      <td>NaN</td>\n",
              "      <td>S</td>\n",
              "    </tr>\n",
              "    <tr>\n",
              "      <th>1</th>\n",
              "      <td>2</td>\n",
              "      <td>1</td>\n",
              "      <td>1</td>\n",
              "      <td>Cumings, Mrs. John Bradley (Florence Briggs Th...</td>\n",
              "      <td>female</td>\n",
              "      <td>38.0</td>\n",
              "      <td>1</td>\n",
              "      <td>0</td>\n",
              "      <td>PC 17599</td>\n",
              "      <td>71.2833</td>\n",
              "      <td>C85</td>\n",
              "      <td>C</td>\n",
              "    </tr>\n",
              "    <tr>\n",
              "      <th>2</th>\n",
              "      <td>3</td>\n",
              "      <td>1</td>\n",
              "      <td>3</td>\n",
              "      <td>Heikkinen, Miss. Laina</td>\n",
              "      <td>female</td>\n",
              "      <td>26.0</td>\n",
              "      <td>0</td>\n",
              "      <td>0</td>\n",
              "      <td>STON/O2. 3101282</td>\n",
              "      <td>7.9250</td>\n",
              "      <td>NaN</td>\n",
              "      <td>S</td>\n",
              "    </tr>\n",
              "    <tr>\n",
              "      <th>3</th>\n",
              "      <td>4</td>\n",
              "      <td>1</td>\n",
              "      <td>1</td>\n",
              "      <td>Futrelle, Mrs. Jacques Heath (Lily May Peel)</td>\n",
              "      <td>female</td>\n",
              "      <td>35.0</td>\n",
              "      <td>1</td>\n",
              "      <td>0</td>\n",
              "      <td>113803</td>\n",
              "      <td>53.1000</td>\n",
              "      <td>C123</td>\n",
              "      <td>S</td>\n",
              "    </tr>\n",
              "  </tbody>\n",
              "</table>\n",
              "</div>"
            ],
            "text/plain": [
              "   PassengerId  Survived  Pclass  ...     Fare Cabin  Embarked\n",
              "0            1         0       3  ...   7.2500   NaN         S\n",
              "1            2         1       1  ...  71.2833   C85         C\n",
              "2            3         1       3  ...   7.9250   NaN         S\n",
              "3            4         1       1  ...  53.1000  C123         S\n",
              "\n",
              "[4 rows x 12 columns]"
            ]
          },
          "metadata": {
            "tags": []
          },
          "execution_count": 5
        }
      ]
    },
    {
      "cell_type": "code",
      "metadata": {
        "colab": {
          "base_uri": "https://localhost:8080/"
        },
        "id": "OpeHNATpkDGJ",
        "outputId": "c60ed1e4-86d7-457f-bede-de1ee7398f4e"
      },
      "source": [
        "df_train.columns"
      ],
      "execution_count": null,
      "outputs": [
        {
          "output_type": "execute_result",
          "data": {
            "text/plain": [
              "Index(['PassengerId', 'Survived', 'Pclass', 'Name', 'Sex', 'Age', 'SibSp',\n",
              "       'Parch', 'Ticket', 'Fare', 'Cabin', 'Embarked'],\n",
              "      dtype='object')"
            ]
          },
          "metadata": {
            "tags": []
          },
          "execution_count": 6
        }
      ]
    },
    {
      "cell_type": "code",
      "metadata": {
        "colab": {
          "base_uri": "https://localhost:8080/"
        },
        "id": "cDKamVNqkILJ",
        "outputId": "c476c4a1-36f4-4140-8780-9fdc0da488c6"
      },
      "source": [
        "print(df_train.info())"
      ],
      "execution_count": null,
      "outputs": [
        {
          "output_type": "stream",
          "text": [
            "<class 'pandas.core.frame.DataFrame'>\n",
            "RangeIndex: 891 entries, 0 to 890\n",
            "Data columns (total 12 columns):\n",
            " #   Column       Non-Null Count  Dtype  \n",
            "---  ------       --------------  -----  \n",
            " 0   PassengerId  891 non-null    int64  \n",
            " 1   Survived     891 non-null    int64  \n",
            " 2   Pclass       891 non-null    int64  \n",
            " 3   Name         891 non-null    object \n",
            " 4   Sex          891 non-null    object \n",
            " 5   Age          714 non-null    float64\n",
            " 6   SibSp        891 non-null    int64  \n",
            " 7   Parch        891 non-null    int64  \n",
            " 8   Ticket       891 non-null    object \n",
            " 9   Fare         891 non-null    float64\n",
            " 10  Cabin        204 non-null    object \n",
            " 11  Embarked     889 non-null    object \n",
            "dtypes: float64(2), int64(5), object(5)\n",
            "memory usage: 83.7+ KB\n",
            "None\n"
          ],
          "name": "stdout"
        }
      ]
    },
    {
      "cell_type": "code",
      "metadata": {
        "colab": {
          "base_uri": "https://localhost:8080/"
        },
        "id": "u01sreuKkNbB",
        "outputId": "70ce4132-693f-4bc9-97de-df5384e294c3"
      },
      "source": [
        "print(df_train.describe())"
      ],
      "execution_count": null,
      "outputs": [
        {
          "output_type": "stream",
          "text": [
            "       PassengerId    Survived      Pclass  ...       SibSp       Parch        Fare\n",
            "count   891.000000  891.000000  891.000000  ...  891.000000  891.000000  891.000000\n",
            "mean    446.000000    0.383838    2.308642  ...    0.523008    0.381594   32.204208\n",
            "std     257.353842    0.486592    0.836071  ...    1.102743    0.806057   49.693429\n",
            "min       1.000000    0.000000    1.000000  ...    0.000000    0.000000    0.000000\n",
            "25%     223.500000    0.000000    2.000000  ...    0.000000    0.000000    7.910400\n",
            "50%     446.000000    0.000000    3.000000  ...    0.000000    0.000000   14.454200\n",
            "75%     668.500000    1.000000    3.000000  ...    1.000000    0.000000   31.000000\n",
            "max     891.000000    1.000000    3.000000  ...    8.000000    6.000000  512.329200\n",
            "\n",
            "[8 rows x 7 columns]\n"
          ],
          "name": "stdout"
        }
      ]
    },
    {
      "cell_type": "code",
      "metadata": {
        "colab": {
          "base_uri": "https://localhost:8080/"
        },
        "id": "_RfgHBGmkZcY",
        "outputId": "8f010d23-2ab7-4fc7-f686-bb968deaecef"
      },
      "source": [
        "df_train.isnull().sum()"
      ],
      "execution_count": null,
      "outputs": [
        {
          "output_type": "execute_result",
          "data": {
            "text/plain": [
              "PassengerId      0\n",
              "Survived         0\n",
              "Pclass           0\n",
              "Name             0\n",
              "Sex              0\n",
              "Age            177\n",
              "SibSp            0\n",
              "Parch            0\n",
              "Ticket           0\n",
              "Fare             0\n",
              "Cabin          687\n",
              "Embarked         2\n",
              "dtype: int64"
            ]
          },
          "metadata": {
            "tags": []
          },
          "execution_count": 12
        }
      ]
    },
    {
      "cell_type": "code",
      "metadata": {
        "colab": {
          "base_uri": "https://localhost:8080/"
        },
        "id": "DpQnaeVpoRjp",
        "outputId": "e54eb999-f883-4a0e-b8d5-5599a03bd6de"
      },
      "source": [
        "import pandas as pd\n",
        "import seaborn as sb\n",
        "import matplotlib.pyplot as plt\n",
        "pd.set_option('display.max_columns', None)\n",
        "pd.set_option('display.max_rows', None)\n",
        "df_train = pd.read_csv('train.csv')\n",
        " \n",
        "def title(name):\n",
        "   if '.' in name:\n",
        "      return name.split(',')[1].split('.')[0].strip()\n",
        "   else:\n",
        "      return 'No title Exists'\n",
        "unique_titles =sorted(set([x for x in df_train['Name'].map(lambda x: title(x))]))\n",
        " \n",
        "print(len(unique_titles) ,':' ,unique_titles)\n",
        "def compact_titles(x):\n",
        "   title_new = x['Title']\n",
        "   if title_new in ['Capt', 'Col', 'Major']:\n",
        "      return 'Officer'\n",
        "   elif title_new in ['Mr','Master','Don','the Countess','Sir', 'Ms','Jonkheer', 'Dona', 'Lady']:\n",
        "      return 'Royale People'\n",
        "   elif title_new in ['Mrs','Master','Miss''the Countess','Mme','Lady']:\n",
        "      return 'Mrs'\n",
        "   elif title_new in ['Miss','Mrs','Mlle', 'Ms']:\n",
        "      return 'Miss'\n",
        "   else:\n",
        "      return title_new\n",
        " \n",
        " \n",
        "df_train['Title'] = df_train['Name'].map(lambda x: title(x))\n",
        " \n",
        "df_train['Title'] = df_train.apply(compact_titles, axis=1)\n",
        " \n",
        "print(df_train.Title.value_counts())\n",
        "df_train['Age'].fillna(df_train['Age'].median(), inplace =True)\n",
        "df_train['Fare'].fillna(df_train['Fare'].median(), inplace =True)\n",
        "df_train['Embarked'].fillna(\"S\" , inplace =True)\n",
        "df_train.drop('Name', axis=1, inplace=True)\n",
        "df_train.drop('Ticket', axis=1, inplace=True)\n",
        "df_train.drop('Cabin', axis=1, inplace=True)\n",
        "df_train.Sex.replace(('male', 'female'), (0, 1), inplace=True)\n",
        "df_train.Embarked.replace(('S', 'Q', 'C'), (0, 1, 2), inplace=True)\n",
        "df_train.Title.replace(('Mrs', 'Miss', 'Royale People', 'Dr', 'Rev', 'Officer','Royale People'), (0, 1, 2, 3, 4, 5, 6), inplace=True)\n",
        "print(df_train.sample(20))"
      ],
      "execution_count": null,
      "outputs": [
        {
          "output_type": "stream",
          "text": [
            "17 : ['Capt', 'Col', 'Don', 'Dr', 'Jonkheer', 'Lady', 'Major', 'Master', 'Miss', 'Mlle', 'Mme', 'Mr', 'Mrs', 'Ms', 'Rev', 'Sir', 'the Countess']\n",
            "Royale People    563\n",
            "Miss             184\n",
            "Mrs              126\n",
            "Dr                 7\n",
            "Rev                6\n",
            "Officer            5\n",
            "Name: Title, dtype: int64\n",
            "     PassengerId  Survived  Pclass  Sex   Age  SibSp  Parch      Fare  \\\n",
            "546          547         1       2    1  19.0      1      0   26.0000   \n",
            "474          475         0       3    1  22.0      0      0    9.8375   \n",
            "643          644         1       3    0  28.0      0      0   56.4958   \n",
            "211          212         1       2    1  35.0      0      0   21.0000   \n",
            "574          575         0       3    0  16.0      0      0    8.0500   \n",
            "610          611         0       3    1  39.0      1      5   31.2750   \n",
            "14            15         0       3    1  14.0      0      0    7.8542   \n",
            "182          183         0       3    0   9.0      4      2   31.3875   \n",
            "67            68         0       3    0  19.0      0      0    8.1583   \n",
            "743          744         0       3    0  24.0      1      0   16.1000   \n",
            "795          796         0       2    0  39.0      0      0   13.0000   \n",
            "789          790         0       1    0  46.0      0      0   79.2000   \n",
            "7              8         0       3    0   2.0      3      1   21.0750   \n",
            "190          191         1       2    1  32.0      0      0   13.0000   \n",
            "121          122         0       3    0  28.0      0      0    8.0500   \n",
            "398          399         0       2    0  23.0      0      0   10.5000   \n",
            "737          738         1       1    0  35.0      0      0  512.3292   \n",
            "736          737         0       3    1  48.0      1      3   34.3750   \n",
            "746          747         0       3    0  16.0      1      1   20.2500   \n",
            "17            18         1       2    0  28.0      0      0   13.0000   \n",
            "\n",
            "     Embarked  Title  \n",
            "546         0      0  \n",
            "474         0      1  \n",
            "643         0      6  \n",
            "211         0      1  \n",
            "574         0      6  \n",
            "610         0      0  \n",
            "14          0      1  \n",
            "182         0      6  \n",
            "67          0      6  \n",
            "743         0      6  \n",
            "795         0      6  \n",
            "789         2      6  \n",
            "7           0      6  \n",
            "190         0      0  \n",
            "121         0      6  \n",
            "398         0      3  \n",
            "737         2      6  \n",
            "736         0      0  \n",
            "746         0      6  \n",
            "17          0      6  \n"
          ],
          "name": "stdout"
        }
      ]
    },
    {
      "cell_type": "code",
      "metadata": {
        "colab": {
          "base_uri": "https://localhost:8080/"
        },
        "id": "SdaQhNOnoT1O",
        "outputId": "46ad3b66-1890-4e71-950f-41f890035d66"
      },
      "source": [
        "df_train.info()"
      ],
      "execution_count": null,
      "outputs": [
        {
          "output_type": "stream",
          "text": [
            "<class 'pandas.core.frame.DataFrame'>\n",
            "RangeIndex: 891 entries, 0 to 890\n",
            "Data columns (total 10 columns):\n",
            " #   Column       Non-Null Count  Dtype  \n",
            "---  ------       --------------  -----  \n",
            " 0   PassengerId  891 non-null    int64  \n",
            " 1   Survived     891 non-null    int64  \n",
            " 2   Pclass       891 non-null    int64  \n",
            " 3   Sex          891 non-null    int64  \n",
            " 4   Age          891 non-null    float64\n",
            " 5   SibSp        891 non-null    int64  \n",
            " 6   Parch        891 non-null    int64  \n",
            " 7   Fare         891 non-null    float64\n",
            " 8   Embarked     891 non-null    int64  \n",
            " 9   Title        891 non-null    int64  \n",
            "dtypes: float64(2), int64(8)\n",
            "memory usage: 69.7 KB\n"
          ],
          "name": "stdout"
        }
      ]
    },
    {
      "cell_type": "code",
      "metadata": {
        "colab": {
          "base_uri": "https://localhost:8080/"
        },
        "id": "phfotCbSomo3",
        "outputId": "6010cf89-d97a-4ddf-d1c1-589346fa4e21"
      },
      "source": [
        "df_train.isnull().sum()"
      ],
      "execution_count": null,
      "outputs": [
        {
          "output_type": "execute_result",
          "data": {
            "text/plain": [
              "PassengerId    0\n",
              "Survived       0\n",
              "Pclass         0\n",
              "Sex            0\n",
              "Age            0\n",
              "SibSp          0\n",
              "Parch          0\n",
              "Fare           0\n",
              "Embarked       0\n",
              "Title          0\n",
              "dtype: int64"
            ]
          },
          "metadata": {
            "tags": []
          },
          "execution_count": 17
        }
      ]
    },
    {
      "cell_type": "code",
      "metadata": {
        "colab": {
          "base_uri": "https://localhost:8080/"
        },
        "id": "290DPbAPpPWJ",
        "outputId": "76c44386-23e8-41ad-aec3-5ea87ecd0aca"
      },
      "source": [
        "corr= df_train.corr()\n",
        "corr.Survived.sort_values(ascending=False)"
      ],
      "execution_count": null,
      "outputs": [
        {
          "output_type": "execute_result",
          "data": {
            "text/plain": [
              "Survived       1.000000\n",
              "Sex            0.543351\n",
              "Fare           0.257307\n",
              "Embarked       0.167675\n",
              "Parch          0.081629\n",
              "PassengerId   -0.005007\n",
              "SibSp         -0.035322\n",
              "Age           -0.064910\n",
              "Pclass        -0.338481\n",
              "Title         -0.535004\n",
              "Name: Survived, dtype: float64"
            ]
          },
          "metadata": {
            "tags": []
          },
          "execution_count": 21
        }
      ]
    },
    {
      "cell_type": "code",
      "metadata": {
        "id": "1IPLYfNDp3Yx"
      },
      "source": [
        "import pandas as pd\n",
        "from sklearn.model_selection import train_test_split\n",
        " \n",
        "# pd.set_option('display.max_columns', None)\n",
        " \n",
        " \n",
        "#df_train = pd.read_csv('train.csv')\n",
        " \n",
        "#df_train.sample(5)\n",
        " \n",
        " \n",
        "y = df_train['Survived']\n",
        "x = df_train.drop(['Survived', 'PassengerId'], axis=1)\n",
        "x_train, x_test, y_train, y_test = train_test_split(x, y, test_size=0.15)"
      ],
      "execution_count": null,
      "outputs": []
    },
    {
      "cell_type": "code",
      "metadata": {
        "colab": {
          "base_uri": "https://localhost:8080/"
        },
        "id": "u63ENM3qqpXL",
        "outputId": "e87b5116-4fcf-48e9-bfaf-9e98479b8e92"
      },
      "source": [
        "import pickle \n",
        "from sklearn.ensemble import RandomForestClassifier\n",
        "from sklearn.metrics import accuracy_score\n",
        "rf=RandomForestClassifier()\n",
        "rf.fit(x_train,y_train)\n",
        "y_predicted=rf.predict(x_test)\n",
        "acc_rf=round(accuracy_score(y_predicted,y_test)*100,2)\n",
        "print(f\"Accuracy of model is : {acc_rf}\")\n",
        "pickle.dump(rf,open(\"my_titanic_model.sav\",\"wb\"))"
      ],
      "execution_count": null,
      "outputs": [
        {
          "output_type": "stream",
          "text": [
            "Accuracy of model is : 82.84\n"
          ],
          "name": "stdout"
        }
      ]
    },
    {
      "cell_type": "code",
      "metadata": {
        "colab": {
          "base_uri": "https://localhost:8080/"
        },
        "id": "UAXGzymctj4L",
        "outputId": "dd84be73-b17e-4bbc-d9c5-e9cf9c56b204"
      },
      "source": [
        "df_test=pd.read_csv('test.csv')\n",
        "df_test['Title'] = df_test['Name'].map(lambda x: title(x))\n",
        " \n",
        "df_test['Title'] = df_test.apply(compact_titles, axis=1)\n",
        "ids = df_test['PassengerId']\n",
        "print(df_test.Title.value_counts())\n",
        "df_test['Age'].fillna(df_test['Age'].median(), inplace =True)\n",
        "df_test['Fare'].fillna(df_test['Fare'].median(), inplace =True)\n",
        "df_test['Embarked'].fillna(\"S\" , inplace =True)\n",
        "df_test.drop('Name', axis=1, inplace=True)\n",
        "df_test.drop('Ticket', axis=1, inplace=True)\n",
        "df_test.drop('Cabin', axis=1, inplace=True)\n",
        "df_test.drop('PassengerId', axis=1, inplace=True)\n",
        "df_test.Sex.replace(('male', 'female'), (0, 1), inplace=True)\n",
        "df_test.Embarked.replace(('S', 'Q', 'C'), (0, 1, 2), inplace=True)\n",
        "df_test.Title.replace(('Mrs', 'Miss', 'Royale People', 'Dr', 'Rev', 'Officer','Royale People'), (0, 1, 2, 3, 4, 5, 6), inplace=True)\n",
        " "
      ],
      "execution_count": null,
      "outputs": [
        {
          "output_type": "stream",
          "text": [
            "Royale People    263\n",
            "Miss              78\n",
            "Mrs               72\n",
            "Rev                2\n",
            "Officer            2\n",
            "Dr                 1\n",
            "Name: Title, dtype: int64\n"
          ],
          "name": "stdout"
        }
      ]
    },
    {
      "cell_type": "code",
      "metadata": {
        "id": "NKcXaJ2It33w"
      },
      "source": [
        "predicted_value=rf.predict(df_test)\n",
        "result =pd.DataFrame({\"passangerid\":ids, \"Survived\":predicted_value})\n",
        "result.to_csv(\"titanic_predicted.csv\", index=False)"
      ],
      "execution_count": null,
      "outputs": []
    }
  ]
}