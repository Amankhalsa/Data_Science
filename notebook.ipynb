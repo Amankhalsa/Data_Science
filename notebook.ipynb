{
 "cells": [
  {
   "cell_type": "markdown",
   "metadata": {},
   "source": [
    "This is a hello world for testing "
   ]
  },
  {
   "cell_type": "code",
   "execution_count": 2,
   "metadata": {},
   "outputs": [
    {
     "name": "stdout",
     "output_type": "stream",
     "text": [
      "helo This is data sci work \n"
     ]
    }
   ],
   "source": [
    "print(\"helo This is data sci work \")"
   ]
  },
  {
   "cell_type": "markdown",
   "metadata": {},
   "source": [
    "# Data Science tools "
   ]
  },
  {
   "cell_type": "code",
   "execution_count": 2,
   "metadata": {},
   "outputs": [
    {
     "name": "stdout",
     "output_type": "stream",
     "text": [
      "     PassengerId  Survived  Pclass  \\\n",
      "0              1         0       3   \n",
      "1              2         1       1   \n",
      "2              3         1       3   \n",
      "3              4         1       1   \n",
      "4              5         0       3   \n",
      "..           ...       ...     ...   \n",
      "886          887         0       2   \n",
      "887          888         1       1   \n",
      "888          889         0       3   \n",
      "889          890         1       1   \n",
      "890          891         0       3   \n",
      "\n",
      "                                                  Name     Sex   Age  SibSp  \\\n",
      "0                              Braund, Mr. Owen Harris    male  22.0      1   \n",
      "1    Cumings, Mrs. John Bradley (Florence Briggs Th...  female  38.0      1   \n",
      "2                               Heikkinen, Miss. Laina  female  26.0      0   \n",
      "3         Futrelle, Mrs. Jacques Heath (Lily May Peel)  female  35.0      1   \n",
      "4                             Allen, Mr. William Henry    male  35.0      0   \n",
      "..                                                 ...     ...   ...    ...   \n",
      "886                              Montvila, Rev. Juozas    male  27.0      0   \n",
      "887                       Graham, Miss. Margaret Edith  female  19.0      0   \n",
      "888           Johnston, Miss. Catherine Helen \"Carrie\"  female   NaN      1   \n",
      "889                              Behr, Mr. Karl Howell    male  26.0      0   \n",
      "890                                Dooley, Mr. Patrick    male  32.0      0   \n",
      "\n",
      "     Parch            Ticket     Fare Cabin Embarked  \n",
      "0        0         A/5 21171   7.2500   NaN        S  \n",
      "1        0          PC 17599  71.2833   C85        C  \n",
      "2        0  STON/O2. 3101282   7.9250   NaN        S  \n",
      "3        0            113803  53.1000  C123        S  \n",
      "4        0            373450   8.0500   NaN        S  \n",
      "..     ...               ...      ...   ...      ...  \n",
      "886      0            211536  13.0000   NaN        S  \n",
      "887      0            112053  30.0000   B42        S  \n",
      "888      2        W./C. 6607  23.4500   NaN        S  \n",
      "889      0            111369  30.0000  C148        C  \n",
      "890      0            370376   7.7500   NaN        Q  \n",
      "\n",
      "[891 rows x 12 columns]\n",
      "==================================================================================================================\n",
      "Desccribe \n",
      "        PassengerId    Survived      Pclass         Age       SibSp  \\\n",
      "count   891.000000  891.000000  891.000000  714.000000  891.000000   \n",
      "mean    446.000000    0.383838    2.308642   29.699118    0.523008   \n",
      "std     257.353842    0.486592    0.836071   14.526497    1.102743   \n",
      "min       1.000000    0.000000    1.000000    0.420000    0.000000   \n",
      "25%     223.500000    0.000000    2.000000   20.125000    0.000000   \n",
      "50%     446.000000    0.000000    3.000000   28.000000    0.000000   \n",
      "75%     668.500000    1.000000    3.000000   38.000000    1.000000   \n",
      "max     891.000000    1.000000    3.000000   80.000000    8.000000   \n",
      "\n",
      "            Parch        Fare  \n",
      "count  891.000000  891.000000  \n",
      "mean     0.381594   32.204208  \n",
      "std      0.806057   49.693429  \n",
      "min      0.000000    0.000000  \n",
      "25%      0.000000    7.910400  \n",
      "50%      0.000000   14.454200  \n",
      "75%      0.000000   31.000000  \n",
      "max      6.000000  512.329200  \n",
      "==================================================================================================================\n",
      "<class 'pandas.core.frame.DataFrame'>\n",
      "RangeIndex: 891 entries, 0 to 890\n",
      "Data columns (total 12 columns):\n",
      " #   Column       Non-Null Count  Dtype  \n",
      "---  ------       --------------  -----  \n",
      " 0   PassengerId  891 non-null    int64  \n",
      " 1   Survived     891 non-null    int64  \n",
      " 2   Pclass       891 non-null    int64  \n",
      " 3   Name         891 non-null    object \n",
      " 4   Sex          891 non-null    object \n",
      " 5   Age          714 non-null    float64\n",
      " 6   SibSp        891 non-null    int64  \n",
      " 7   Parch        891 non-null    int64  \n",
      " 8   Ticket       891 non-null    object \n",
      " 9   Fare         891 non-null    float64\n",
      " 10  Cabin        204 non-null    object \n",
      " 11  Embarked     889 non-null    object \n",
      "dtypes: float64(2), int64(5), object(5)\n",
      "memory usage: 83.7+ KB\n",
      "info \n",
      " None\n",
      "==================================================================================================================\n",
      "sample \n",
      "      PassengerId  Survived  Pclass                 Name   Sex  Age  SibSp  \\\n",
      "158          159         0       3  Smiljanic, Mr. Mile  male  NaN      0   \n",
      "\n",
      "     Parch  Ticket    Fare Cabin Embarked  \n",
      "158      0  315037  8.6625   NaN        S  \n",
      "==================================================================================================================\n",
      "sample \n",
      " Index(['PassengerId', 'Survived', 'Pclass', 'Name', 'Sex', 'Age', 'SibSp',\n",
      "       'Parch', 'Ticket', 'Fare', 'Cabin', 'Embarked'],\n",
      "      dtype='object')\n"
     ]
    }
   ],
   "source": [
    "# import numpy\r\n",
    "import pandas as pd\r\n",
    "# import sklearn\r\n",
    "# import matplotlib\r\n",
    "\r\n",
    "\r\n",
    "df =pd.read_csv(\"train.csv\")\r\n",
    "# print(df)\r\n",
    "# df=df.size\r\n",
    "# print(\" x \"*10)\r\n",
    "print(df)\r\n",
    "print(\"=========================================================\"*2)\r\n",
    "\r\n",
    "print(\"Desccribe \\n\",df.describe())\r\n",
    "print(\"=========================================================\"*2)\r\n",
    "\r\n",
    "\r\n",
    "print(\"info \\n\",df.info())\r\n",
    "print(\"=========================================================\"*2)\r\n",
    "print(\"sample \\n\",df.sample())\r\n",
    "print(\"=========================================================\"*2)\r\n",
    "print(\"sample \\n\",df.columns)\r\n",
    "\r\n"
   ]
  },
  {
   "cell_type": "markdown",
   "metadata": {},
   "source": [
    "# Part 2 of Data science "
   ]
  },
  {
   "cell_type": "code",
   "execution_count": 1,
   "metadata": {},
   "outputs": [
    {
     "name": "stdout",
     "output_type": "stream",
     "text": [
      "0                                  Kelly, Mr. James\n",
      "1                  Wilkes, Mrs. James (Ellen Needs)\n",
      "2                         Myles, Mr. Thomas Francis\n",
      "3                                  Wirz, Mr. Albert\n",
      "4      Hirvonen, Mrs. Alexander (Helga E Lindqvist)\n",
      "                           ...                     \n",
      "413                              Spector, Mr. Woolf\n",
      "414                    Oliva y Ocana, Dona. Fermina\n",
      "415                    Saether, Mr. Simon Sivertsen\n",
      "416                             Ware, Mr. Frederick\n",
      "417                        Peter, Master. Michael J\n",
      "Name: Name, Length: 418, dtype: object\n",
      "================================================================================\n",
      "     PassengerId  Pclass                 Name   Sex  Age  SibSp  Parch  \\\n",
      "301         1193       2  Malachard, Mr. Noel  male  NaN      0      0   \n",
      "\n",
      "     Ticket     Fare Cabin Embarked  \n",
      "301  237735  15.0458     D        C  \n"
     ]
    }
   ],
   "source": [
    "# import numpy\r\n",
    "# import os\r\n",
    "import pandas as pd\r\n",
    "# pd.set_option('display.max_columns',None)\r\n",
    "# pd.set_option('display.max_rows',None)\r\n",
    "# import sklearn\r\n",
    "# import matplotlib\r\n",
    "\r\n",
    "\r\n",
    "df =pd.read_csv(\"test.csv\")\r\n",
    "\r\n",
    "\r\n",
    "print(df['Name'])\r\n",
    "print(\"==\"*40)\r\n",
    "print(df.sample())"
   ]
  }
 ],
 "metadata": {
  "interpreter": {
   "hash": "f371c82f0e1a8b47d879de9d83956d61a027dd46fd89a2669d7c6401fb2a4dec"
  },
  "kernelspec": {
   "display_name": "Python 3.8.8rc1 64-bit",
   "name": "python3"
  },
  "language_info": {
   "codemirror_mode": {
    "name": "ipython",
    "version": 3
   },
   "file_extension": ".py",
   "mimetype": "text/x-python",
   "name": "python",
   "nbconvert_exporter": "python",
   "pygments_lexer": "ipython3",
   "version": "3.8.8rc1"
  },
  "metadata": {
   "interpreter": {
    "hash": "f371c82f0e1a8b47d879de9d83956d61a027dd46fd89a2669d7c6401fb2a4dec"
   }
  },
  "orig_nbformat": 2
 },
 "nbformat": 4,
 "nbformat_minor": 2
}