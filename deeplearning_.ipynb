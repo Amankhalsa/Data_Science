{
  "nbformat": 4,
  "nbformat_minor": 0,
  "metadata": {
    "colab": {
      "name": "deeplearning .ipynb",
      "provenance": [],
      "collapsed_sections": [],
      "authorship_tag": "ABX9TyMFA/nNf1TcQAgYQNY/+jXj",
      "include_colab_link": true
    },
    "kernelspec": {
      "name": "python3",
      "display_name": "Python 3"
    },
    "language_info": {
      "name": "python"
    },
    "accelerator": "GPU"
  },
  "cells": [
    {
      "cell_type": "markdown",
      "metadata": {
        "id": "view-in-github",
        "colab_type": "text"
      },
      "source": [
        "<a href=\"https://colab.research.google.com/github/Amankhalsa/Data_Science/blob/master/deeplearning_.ipynb\" target=\"_parent\"><img src=\"https://colab.research.google.com/assets/colab-badge.svg\" alt=\"Open In Colab\"/></a>"
      ]
    },
    {
      "cell_type": "markdown",
      "metadata": {
        "id": "1VrhuTjfxZ_Q"
      },
      "source": [
        "# Required lib \n",
        "    * import pandas\n",
        "    * import skleran \n",
        "    * import pickle\n",
        "    * import tensorflow \n",
        "    * import keras"
      ]
    },
    {
      "cell_type": "code",
      "metadata": {
        "colab": {
          "base_uri": "https://localhost:8080/",
          "height": 296
        },
        "id": "o9CsOcXm9l2S",
        "outputId": "91d53b3c-2959-4f39-c9aa-5ce9fc68c62d"
      },
      "source": [
        "import pandas as pd\n",
        "from sklearn.model_selection import train_test_split\n",
        "import pickle\n",
        "from sklearn.ensemble import RandomForestClassifier\n",
        " \n",
        "df_train = pd.read_csv('train.csv')\n",
        " \n",
        " \n",
        "def title(name):\n",
        "   if '.' in name:\n",
        "      return name.split(',')[1].split('.')[0].strip()\n",
        "   else:\n",
        "      return 'No title Exists'\n",
        " \n",
        "def compact_titles(x):\n",
        "   title_new = x['Title']\n",
        "   if title_new in ['Capt', 'Col', 'Major']:\n",
        "      return 'Officer'\n",
        "   elif title_new in ['Mr','Master','Don','the Countess','Sir', 'Ms','Jonkheer', 'Dona', 'Lady']:\n",
        "      return 'Royale People'\n",
        "   elif title_new in ['Mrs','Master','Miss''the Countess','Mme','Lady']:\n",
        "      return 'Mrs'\n",
        "   elif title_new in ['Miss','Mrs','Mlle', 'Ms']:\n",
        "      return 'Miss'\n",
        "   else:\n",
        "      return title_new\n",
        " \n",
        "df_train['Title'] = df_train['Name'].map(lambda x: title(x))\n",
        "df_train['Title'] = df_train.apply(compact_titles, axis=1)\n",
        " \n",
        "df_train['Age'].fillna(df_train['Age'].median(), inplace =True)\n",
        "df_train['Fare'].fillna(df_train['Fare'].median(), inplace =True)\n",
        "df_train['Embarked'].fillna(\"S\" , inplace =True)\n",
        "df_train.drop('Name', axis=1, inplace=True)\n",
        "df_train.drop('Ticket', axis=1, inplace=True)\n",
        "df_train.drop('Cabin', axis=1, inplace=True)\n",
        "df_train.Sex.replace(('male', 'female'), (0, 1), inplace=True)\n",
        "df_train.Embarked.replace(('S', 'Q', 'C'), (0, 1, 2), inplace=True)\n",
        "df_train.Title.replace(('Mrs', 'Miss', 'Royale People', 'Dr', 'Rev', 'Officer','Royale People'), (0, 1, 2, 3, 4, 5, 6), inplace=True)\n",
        "y = df_train['Survived']\n",
        "x = df_train.drop(['Survived', 'PassengerId'], axis=1)\n",
        "x_train, x_test, y_train, y_test = train_test_split(x, y, test_size=0.20)\n",
        " \n",
        " \n",
        "import pickle\n",
        "from sklearn.ensemble import RandomForestClassifier\n",
        "from sklearn.metrics import accuracy_score\n",
        " \n",
        "rf = RandomForestClassifier()\n",
        "rf.fit(x_train,y_train)\n",
        "y_predicted = rf.predict(x_test)\n",
        " \n",
        "acc_rf = round(accuracy_score(y_predicted,y_test)*100,2)\n",
        "print(f'Accuracy of Model is :{acc_rf}')\n",
        " \n",
        " \n",
        " \n",
        " \n",
        " \n",
        " \n",
        " \n",
        " \n",
        "from keras.models import Sequential\n",
        " \n",
        "from keras.layers import Dense,Dropout\n",
        "import matplotlib.pyplot as plt\n",
        " \n",
        " \n",
        "model = Sequential()\n",
        "model.add(Dense(16, activation='relu', input_shape=(8,)))\n",
        "model.add(Dropout(rate=0.2))\n",
        "model.add(Dense(32, activation='relu'))\n",
        "model.add(Dropout(rate=0.2))\n",
        "model.add(Dense(64, activation='relu'))\n",
        "model.add(Dropout(rate=0.2))\n",
        "model.add(Dense(32, activation='relu'))\n",
        "model.add(Dropout(rate=0.2))\n",
        "model.add(Dense(16, activation='relu'))\n",
        "model.add(Dense(1, activation='sigmoid'))\n",
        " \n",
        " \n",
        "model.compile(optimizer='adam',loss = 'binary_crossentropy', metrics=['accuracy'])\n",
        " \n",
        "model_train = model.fit(x,y, epochs=500,batch_size=50,verbose=0,validation_split=0.05)\n",
        " \n",
        "plt.plot(model_train.history['accuracy'], label = 'Train')\n",
        "plt.plot(model_train.history['val_accuracy'], label = 'Test')\n",
        "plt.xlabel('Epoc Number')\n",
        "plt.ylabel('Accuracy')\n",
        "plt.legend(loc='upper right')\n",
        "plt.show()"
      ],
      "execution_count": 7,
      "outputs": [
        {
          "output_type": "stream",
          "text": [
            "Accuracy of Model is :84.36\n"
          ],
          "name": "stdout"
        },
        {
          "output_type": "display_data",
          "data": {
            "image/png": "[encoded data removed]",
            "text/plain": [
              "<Figure size 432x288 with 1 Axes>"
            ]
          },
          "metadata": {
            "tags": [],
            "needs_background": "light"
          }
        }
      ]
    }
  ]
}